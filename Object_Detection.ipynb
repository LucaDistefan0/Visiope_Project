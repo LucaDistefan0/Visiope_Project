{
  "cells": [
    {
      "cell_type": "code",
      "execution_count": null,
      "metadata": {
        "id": "Bcb23hofFqdp"
      },
      "outputs": [],
      "source": [
        "!pip install tensorflow opencv-python matplotlib\n",
        "!pip install opencv-python-headless\n",
        "from IPython.display import clear_output\n",
        "import tensorflow as tf\n",
        "from tensorflow.keras import Model\n",
        "from tensorflow.keras.applications import MobileNetV3Small\n",
        "from tensorflow.keras.preprocessing.image import ImageDataGenerator\n",
        "from tensorflow.keras.layers import Dense, GlobalAveragePooling2D\n",
        "from tensorflow.keras import Model\n",
        "from tensorflow.keras.optimizers import Adam\n",
        "\n",
        "#Plot\n",
        "from matplotlib import pyplot as plt\n",
        "\n",
        "#Bounding boxes\n",
        "import numpy as np\n",
        "import tensorflow_hub as hub\n",
        "from PIL import Image\n",
        "from PIL import ImageColor\n",
        "from PIL import ImageDraw\n",
        "from PIL import ImageFont\n",
        "from PIL import ImageOps\n",
        "\n",
        "# For downloading the image.\n",
        "import matplotlib.pyplot as plt\n",
        "import tempfile\n",
        "#from six.moves.urllib.request import urlopen\n",
        "from urllib.request import urlopen\n",
        "#from six import BytesIO\n",
        "from io import BytesIO\n",
        "import time #for inference time\n",
        "import os\n",
        "import cv2\n",
        "import imghdr\n",
        "\n",
        "\n",
        "clear_output()"
      ]
    },
    {
      "cell_type": "code",
      "execution_count": null,
      "metadata": {
        "colab": {
          "base_uri": "https://localhost:8080/"
        },
        "id": "qPQsOq06GQ7B",
        "outputId": "11bd723b-1668-4616-aab8-b386c0472863"
      },
      "outputs": [
        {
          "output_type": "stream",
          "name": "stdout",
          "text": [
            "Drive already mounted at /content/drive; to attempt to forcibly remount, call drive.mount(\"/content/drive\", force_remount=True).\n"
          ]
        }
      ],
      "source": [
        "from google.colab import drive\n",
        "drive.mount('/content/drive')\n",
        "IMAGE_PATH ='/content/drive/MyDrive/DATASET4'"
      ]
    },
    {
      "cell_type": "code",
      "execution_count": null,
      "metadata": {
        "id": "-iSYhUJrOP4d"
      },
      "outputs": [],
      "source": [
        "image_exts = ['jpeg', 'jpg', 'bmp', 'png']\n",
        "\n",
        "for image_class in os.listdir(IMAGE_PATH):\n",
        "  for image in os.listdir(os.path.join(IMAGE_PATH, image_class)):\n",
        "    image_path = os.path.join(IMAGE_PATH, image_class, image)\n",
        "    try:\n",
        "      img = cv2.imread(image_path)\n",
        "      tip = imghdr.what(image_path)\n",
        "      if tip not in image_exst:\n",
        "        print('image not in ext list {}'.format(image_path))\n",
        "        os.remove(image_path)\n",
        "    except Exception as e:\n",
        "        print('issue with image {}'.format(image_path))\n",
        "\n",
        "clear_output()"
      ]
    },
    {
      "cell_type": "code",
      "execution_count": null,
      "metadata": {
        "colab": {
          "base_uri": "https://localhost:8080/"
        },
        "id": "1clgABLUHEYy",
        "outputId": "e195a427-8217-4606-e0f4-88e74bc526a8"
      },
      "outputs": [
        {
          "output_type": "stream",
          "name": "stdout",
          "text": [
            "Found 952 images belonging to 16 classes.\n",
            "Found 461 images belonging to 16 classes.\n"
          ]
        }
      ],
      "source": [
        "train_datagen = ImageDataGenerator(\n",
        "    #rescale=1./255,\n",
        "    #shear_range=0.2,\n",
        "    horizontal_flip=True,\n",
        "    vertical_flip=True,\n",
        "    rotation_range=20,\n",
        "    #keep_aspect_ratio=True,\n",
        "    validation_split=0.33\n",
        "    )\n",
        "IMG_SIZE=(224, 224)\n",
        "\n",
        "train_generator = train_datagen.flow_from_directory(\n",
        "    IMAGE_PATH,\n",
        "    target_size=IMG_SIZE,\n",
        "    batch_size=32,\n",
        "    subset='training') # set as training data\n",
        "class_names = train_generator.class_indices\n",
        "valid_generator = train_datagen.flow_from_directory(\n",
        "    IMAGE_PATH, # same directory as training data\n",
        "    target_size=IMG_SIZE,\n",
        "    batch_size=16,\n",
        "    subset='validation')"
      ]
    },
    {
      "cell_type": "code",
      "execution_count": null,
      "metadata": {
        "colab": {
          "base_uri": "https://localhost:8080/"
        },
        "id": "XfirsTL9JWwz",
        "outputId": "fd16e1bf-40fa-41c9-a761-a6c36da41231"
      },
      "outputs": [
        {
          "output_type": "stream",
          "name": "stderr",
          "text": [
            "WARNING:tensorflow:`input_shape` is undefined or non-square, or `rows` is not 224. Weights for input shape (224, 224) will be loaded as the default.\n"
          ]
        },
        {
          "output_type": "stream",
          "name": "stdout",
          "text": [
            "KerasTensor(type_spec=TensorSpec(shape=(None, 16), dtype=tf.float32, name=None), name='dense_7/Softmax:0', description=\"created by layer 'dense_7'\")\n"
          ]
        }
      ],
      "source": [
        "base_model = MobileNetV3Small(weights='imagenet', include_top=True)\n",
        "\n",
        "x = base_model.output\n",
        "#x = GlobalAveragePooling2D()(x)\n",
        "#x = Dense(512, activation='relu')(x)\n",
        "#x = Dense(256, activation='relu')(x)\n",
        "x = Dense(1024, activation='relu')(x)\n",
        "preds = Dense(len(class_names), activation='softmax')(x)\n",
        "print(preds)\n",
        "model = Model(inputs=base_model.input,outputs=preds)\n",
        "#model.summary()"
      ]
    },
    {
      "cell_type": "code",
      "execution_count": null,
      "metadata": {
        "colab": {
          "base_uri": "https://localhost:8080/"
        },
        "id": "PyCgu74-MxwH",
        "outputId": "79ba6f04-4318-47ed-973e-9a116a529029"
      },
      "outputs": [
        {
          "output_type": "stream",
          "name": "stdout",
          "text": [
            "Epoch 1/10\n"
          ]
        },
        {
          "output_type": "stream",
          "name": "stderr",
          "text": [
            "/usr/local/lib/python3.10/dist-packages/PIL/Image.py:996: UserWarning: Palette images with Transparency expressed in bytes should be converted to RGBA images\n",
            "  warnings.warn(\n"
          ]
        },
        {
          "output_type": "stream",
          "name": "stdout",
          "text": [
            "30/30 [==============================] - 129s 4s/step - loss: 0.9062 - accuracy: 0.7437 - val_loss: 2.4236 - val_accuracy: 0.4751\n",
            "Epoch 2/10\n",
            "30/30 [==============================] - 90s 3s/step - loss: 0.9379 - accuracy: 0.7532 - val_loss: 2.2154 - val_accuracy: 0.5011\n",
            "Epoch 3/10\n",
            "30/30 [==============================] - 91s 3s/step - loss: 0.9514 - accuracy: 0.7426 - val_loss: 2.7240 - val_accuracy: 0.4208\n",
            "Epoch 4/10\n",
            "30/30 [==============================] - 110s 4s/step - loss: 0.8525 - accuracy: 0.7637 - val_loss: 2.8599 - val_accuracy: 0.3579\n",
            "Epoch 5/10\n",
            "30/30 [==============================] - 109s 4s/step - loss: 0.8522 - accuracy: 0.7731 - val_loss: 2.1999 - val_accuracy: 0.4989\n",
            "Epoch 6/10\n",
            "30/30 [==============================] - 92s 3s/step - loss: 0.8263 - accuracy: 0.7553 - val_loss: 2.1793 - val_accuracy: 0.4902\n",
            "Epoch 7/10\n",
            "30/30 [==============================] - 109s 4s/step - loss: 0.8018 - accuracy: 0.8046 - val_loss: 2.4717 - val_accuracy: 0.4729\n",
            "Epoch 8/10\n",
            "30/30 [==============================] - 91s 3s/step - loss: 0.7964 - accuracy: 0.7952 - val_loss: 2.0169 - val_accuracy: 0.4772\n",
            "Epoch 9/10\n",
            "30/30 [==============================] - 110s 4s/step - loss: 0.7344 - accuracy: 0.8120 - val_loss: 2.0483 - val_accuracy: 0.5228\n",
            "Epoch 10/10\n",
            "30/30 [==============================] - 124s 4s/step - loss: 0.7162 - accuracy: 0.8267 - val_loss: 2.6972 - val_accuracy: 0.4447\n"
          ]
        }
      ],
      "source": [
        "initial_learning_rate = 0.001\n",
        "'''\n",
        "lr_schedule = tf.keras.optimizers.schedules.ExponentialDecay(\n",
        "    initial_learning_rate, decay_steps=100, decay_rate=0.96, staircase=True\n",
        ")\n",
        "'''\n",
        "epochs=10\n",
        "optimizer = Adam(learning_rate=0.001)\n",
        "model.compile(loss='categorical_crossentropy', optimizer=optimizer, metrics=['accuracy'])\n",
        "history = model.fit(train_generator, validation_data=valid_generator, epochs=epochs)"
      ]
    },
    {
      "cell_type": "code",
      "execution_count": null,
      "metadata": {
        "colab": {
          "base_uri": "https://localhost:8080/",
          "height": 718
        },
        "id": "nDvhqEXwSGaU",
        "outputId": "b5eaba9f-b800-4219-8a4c-2028663b6670"
      },
      "outputs": [
        {
          "output_type": "display_data",
          "data": {
            "text/plain": [
              "<Figure size 800x800 with 2 Axes>"
            ],
            "image/png": "[encoded data removed]"
          },
          "metadata": {}
        }
      ],
      "source": [
        "acc = history.history['accuracy']\n",
        "val_acc = history.history['val_accuracy']\n",
        "\n",
        "loss = history.history['loss']\n",
        "val_loss = history.history['val_loss']\n",
        "\n",
        "plt.figure(figsize=(8, 8))\n",
        "plt.subplot(2, 1, 1)\n",
        "plt.plot(acc, label='Training Accuracy')\n",
        "plt.plot(val_acc, label='Validation Accuracy')\n",
        "plt.legend(loc='lower right')\n",
        "plt.ylabel('Accuracy')\n",
        "plt.ylim([min(plt.ylim()),1])\n",
        "plt.title('Training and Validation Accuracy')\n",
        "\n",
        "plt.subplot(2, 1, 2)\n",
        "plt.plot(loss, label='Training Loss')\n",
        "plt.plot(val_loss, label='Validation Loss')\n",
        "plt.legend(loc='upper right')\n",
        "plt.ylabel('Cross Entropy')\n",
        "plt.ylim([0,3.0])\n",
        "plt.title('Training and Validation Loss')\n",
        "plt.xlabel('epoch')\n",
        "plt.show()"
      ]
    },
    {
      "cell_type": "code",
      "execution_count": null,
      "metadata": {
        "id": "KhVBml5luZwl"
      },
      "outputs": [],
      "source": [
        "model.save('/content/drive/MyDrive/modello_definitivo')\n"
      ]
    },
    {
      "cell_type": "code",
      "source": [
        "model1 = tf.keras.models.load_model('/content/drive/MyDrive/modello_definitivo')"
      ],
      "metadata": {
        "id": "aYRHS8K9o8Mg"
      },
      "execution_count": null,
      "outputs": []
    },
    {
      "cell_type": "markdown",
      "metadata": {
        "id": "pSPzig4tlOZP"
      },
      "source": [
        "# SLIDING WINDOWS + IMAGE PYRAMIDS FUNCTIONS\n"
      ]
    },
    {
      "cell_type": "code",
      "execution_count": null,
      "metadata": {
        "id": "lZN_xPmMlW8S"
      },
      "outputs": [],
      "source": [
        "import imutils\n",
        "from google.colab.patches import cv2_imshow"
      ]
    },
    {
      "cell_type": "code",
      "execution_count": null,
      "metadata": {
        "id": "v41XtkDFnUcy"
      },
      "outputs": [],
      "source": [
        "from imutils.object_detection import non_max_suppression\n",
        "import cv2\n",
        "import time\n",
        "import numpy as np\n",
        "from tensorflow.keras.applications import imagenet_utils\n",
        "from tensorflow.keras.preprocessing.image import img_to_array"
      ]
    },
    {
      "cell_type": "code",
      "execution_count": null,
      "metadata": {
        "id": "Uo7st0qJtAfM"
      },
      "outputs": [],
      "source": [
        "preprocess_input = tf.keras.applications.mobilenet_v3.preprocess_input"
      ]
    },
    {
      "cell_type": "code",
      "source": [
        "def sliding_window(image, step, ws):\n",
        "    # slide a window across the image\n",
        "    for y in range(0, image.shape[0]-ws[1], step):\n",
        "        for x in range(0, image.shape[1]-ws[0], step):\n",
        "            # yield the current window\n",
        "            yield (x, y, image[y:y+ws[1], x:x+ws[0]])\n",
        "\n",
        "def image_pyramid(image, scale=1.5, minSize=(224, 224)):\n",
        "    # yield the original image\n",
        "    yield image\n",
        "\n",
        "    # keep looping over the image pyramid\n",
        "    while True:\n",
        "        # compute the dimensions of the next image in the pyramid\n",
        "        w = int(image.shape[1]/scale)\n",
        "        image = imutils.resize(image, width=w)\n",
        "\n",
        "        # if the resized image does not meet the supplied mininum size, then stop constructing the pyramid\n",
        "        if image.shape[0] < minSize[1] or image.shape[1] < minSize[0]:\n",
        "           break\n",
        "\n",
        "        # yield the next image in the pyramid\n",
        "        yield image"
      ],
      "metadata": {
        "id": "uTX92V_4P8Jq"
      },
      "execution_count": null,
      "outputs": []
    },
    {
      "cell_type": "code",
      "source": [
        "def classify_batch(model, batchROIs, batchLocs, labels, minProb=0.5, top=10, dims=(224,224)):\n",
        "    # pass our batch ROIs through our network and decode the predictions\n",
        "    preds = model.predict(batchROIs)\n",
        "\n",
        "    P = []\n",
        "\n",
        "    chiavi = list(class_names.keys())\n",
        "    for i in range(BATCH_SIZE):\n",
        "      P_tmp = {}\n",
        "      for j in range(len(class_names)):\n",
        "        P_tmp[chiavi[j]] = preds[i][j]\n",
        "      P.append(P_tmp)\n",
        "\n",
        "    # loop over the decoded predictions\n",
        "    i=0\n",
        "    count = 0\n",
        "    for i in P:\n",
        "      for (k,v) in i.items() :\n",
        "        # filter out weak detections by ensuring the predicted probability is greater than the minimum probability\n",
        "        if v > minProb:\n",
        "          # grab the coordinates of the sliding window for prediction and construct the bounding box\n",
        "          (pX, pY) = batchLocs[count]\n",
        "          box = (pX, pY, pX+dims[0], pY+dims[1])\n",
        "          # grab the list of predictions for the label and add the bounding box + probability to the list\n",
        "          L = labels.get(k, [])\n",
        "          L.append((box, v))\n",
        "          labels[k] = L\n",
        "      count = count + 1\n",
        "\n",
        "    return labels"
      ],
      "metadata": {
        "id": "FT5N4_OXQEpu"
      },
      "execution_count": null,
      "outputs": []
    },
    {
      "cell_type": "code",
      "source": [
        "image_path1 = \"/content/drive/MyDrive/foto_test.jpg\"\n",
        "#image_path1 = \"/content/drive/MyDrive/DATASET2/knife/000000000089.jpg\"\n",
        "#image_path1 = \"/content/drive/MyDrive/DATASET2/apple/000000017629.jpg\""
      ],
      "metadata": {
        "id": "NwgG1YzWZAd5"
      },
      "execution_count": null,
      "outputs": []
    },
    {
      "cell_type": "code",
      "source": [
        "INPUT_SIZE = (350, 350)\n",
        "PYR_SCALE = 1.5\n",
        "WIN_STEP = 16\n",
        "ROI_SIZE = (224, 224)\n",
        "BATCH_SIZE = 64\n",
        "min_confidence = 0.5\n",
        "visualize_debug = -1"
      ],
      "metadata": {
        "id": "2RvF6K59Q2Ao"
      },
      "execution_count": null,
      "outputs": []
    },
    {
      "cell_type": "code",
      "source": [
        "labels = {}\n",
        "\n",
        "# load the input image from disk and grab its dimensions\n",
        "orig = cv2.imread(image_path1)\n",
        "(h,w) = orig.shape[:2]\n",
        "\n",
        "# resize the input image to be a square\n",
        "resized = cv2.resize(orig, INPUT_SIZE, interpolation=cv2.INTER_CUBIC)\n",
        "\n",
        "# initialize the batch ROIs and (x,y) coordinates\n",
        "batchROIs = None\n",
        "batchLocs = []\n",
        "\n",
        "# start the timer\n",
        "print(\"[INFO] detecting objects...\")\n",
        "start = time.time()\n",
        "\n",
        "# loop over the image pyramid\n",
        "for image in image_pyramid(resized, scale=PYR_SCALE, minSize=ROI_SIZE):\n",
        "    # loop over the sliding window locations\n",
        "    for (x,y,roi) in sliding_window(resized, WIN_STEP, ROI_SIZE):\n",
        "        # take the ROI and pre_process it so we can later classify the region with Keras\n",
        "        roi = img_to_array(roi)\n",
        "        roi = np.expand_dims(roi, axis=0)\n",
        "        roi = preprocess_input(roi)\n",
        "\n",
        "        if batchROIs is None:\n",
        "            batchROIs = roi\n",
        "        else:\n",
        "            batchROIs = np.vstack([batchROIs, roi])\n",
        "        batchLocs.append((x,y))\n",
        "\n",
        "        # check to see if our batch is full\n",
        "        if len(batchROIs) == BATCH_SIZE:\n",
        "            # classify the batch, then reset the batch ROIs\n",
        "            # and (x,y)-coordinates\n",
        "            labels = classify_batch(model, batchROIs, batchLocs, labels)\n",
        "            batchROIs = None\n",
        "            batchLocs = []\n",
        "\n",
        "# check to see if there are any remaining ROIs that still need to be classifier\n",
        "if batchROIs is not None:\n",
        "    labels = classify_batch(model, batchROIs, batchLocs, labels)\n",
        "\n",
        "# show how long the detection process took\n",
        "end = time.time()\n",
        "print(\"[INFO] detections took {:.4f} seconds\".format(end-start))\n",
        "\n",
        "\n",
        "for k in labels.keys():\n",
        "    # clone the input image so we can draw on it\n",
        "    clone = resized.copy()\n",
        "    # loop over all bounding boxes for the label and draw them on the image\n",
        "    for(box, prob) in labels[k]:\n",
        "        (xA, yA, xB, yB) = box\n",
        "        cv2.rectangle(clone, (xA, yA), (xB, yB), (0, 255, 0), 2)\n",
        "\n",
        "    # show the image *without* apply non-maxima suppression\n",
        "    cv2_imshow( clone)\n",
        "    clone = resized.copy()\n",
        "\n",
        "    # grab the bounding boxes and associated probabilities for each detection,\n",
        "    # then apply non-maxima suppression to suppress weaker, overlapping detections\n",
        "    boxes = np.array([p[0] for p in labels[k]])\n",
        "    proba = np.array([p[1] for p in labels[k]])\n",
        "    boxes = non_max_suppression(boxes, proba)\n",
        "\n",
        "    # loop over the bounding boxes again, this time only drawing the ones that were not supressed\n",
        "    for (xA, yA, xB, yB) in boxes:\n",
        "        cv2.rectangle(clone, (xA, yA), (xB, yB), (0, 0, 255), 2)\n",
        "\n",
        "    # show the output image\n",
        "    print(\"[INFO] {}: {}\".format(k, len(boxes)))\n",
        "    cv2_imshow(clone)\n",
        "    cv2.waitKey(0)"
      ],
      "metadata": {
        "id": "m8d2V0sCQQ7Y"
      },
      "execution_count": null,
      "outputs": []
    },
    {
      "cell_type": "code",
      "source": [
        "# Converting a tf.Keras model to a TensorFlow Lite model.\n",
        "converter = tf.lite.TFLiteConverter.from_keras_model(model1)\n",
        "model = converter.convert()\n",
        "\n",
        "# Save the model.\n",
        "with open('model_tflite', 'wb') as f:\n",
        "  f.write(model)"
      ],
      "metadata": {
        "id": "olBlW-KuwbfG"
      },
      "execution_count": null,
      "outputs": []
    }
  ],
  "metadata": {
    "colab": {
      "provenance": []
    },
    "kernelspec": {
      "display_name": "Python 3",
      "name": "python3"
    },
    "language_info": {
      "name": "python"
    }
  },
  "nbformat": 4,
  "nbformat_minor": 0
}